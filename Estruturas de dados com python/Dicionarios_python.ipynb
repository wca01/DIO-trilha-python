{
 "cells": [
  {
   "attachments": {},
   "cell_type": "markdown",
   "metadata": {},
   "source": [
    "# Dicionários\n",
    "\n",
    "* Conjunto não-ordenado de pares chave:valor.\n",
    "* Chaves são únicas e objetos imutáveis (tuplas, string).\n",
    "* Valor pode ser qualquer objeto imutável ou não.\n",
    "* Delimitados por chaves: {}\n",
    "* Separado por vírgulas"
   ]
  },
  {
   "cell_type": "code",
   "execution_count": 1,
   "metadata": {},
   "outputs": [],
   "source": [
    "# Exemplo\n",
    "pessoa = {\"nome\": \"João\", \"idade\": 27}"
   ]
  },
  {
   "cell_type": "code",
   "execution_count": 2,
   "metadata": {},
   "outputs": [],
   "source": [
    "pessoa = dict(nome=\"João\", idade=27) # indicando com a classe dict"
   ]
  },
  {
   "cell_type": "code",
   "execution_count": 3,
   "metadata": {},
   "outputs": [],
   "source": [
    "pessoa[\"telefone\"] = \"9876-5432\" # adicionando chave"
   ]
  },
  {
   "cell_type": "code",
   "execution_count": 4,
   "metadata": {},
   "outputs": [
    {
     "data": {
      "text/plain": [
       "{'nome': 'João', 'idade': 27, 'telefone': '9876-5432'}"
      ]
     },
     "execution_count": 4,
     "metadata": {},
     "output_type": "execute_result"
    }
   ],
   "source": [
    "pessoa # {'nome': 'João', 'idade': 27, 'telefone': '9876-5432'}"
   ]
  },
  {
   "cell_type": "code",
   "execution_count": 7,
   "metadata": {},
   "outputs": [
    {
     "data": {
      "text/plain": [
       "{'nome': 'João', 'idade': 27, 'telefone': '9876-5432'}"
      ]
     },
     "execution_count": 7,
     "metadata": {},
     "output_type": "execute_result"
    }
   ],
   "source": [
    "# Exemplo\n",
    "dados = {'nome': 'João', 'idade': 27, 'telefone': '9876-5432'}\n",
    "dados \n",
    "# {'nome': 'João', 'idade': 27, 'telefone': '9876-5432'}"
   ]
  },
  {
   "cell_type": "code",
   "execution_count": 9,
   "metadata": {},
   "outputs": [
    {
     "data": {
      "text/plain": [
       "'João'"
      ]
     },
     "execution_count": 9,
     "metadata": {},
     "output_type": "execute_result"
    }
   ],
   "source": [
    "dados[\"nome\"]"
   ]
  },
  {
   "cell_type": "code",
   "execution_count": 10,
   "metadata": {},
   "outputs": [
    {
     "data": {
      "text/plain": [
       "27"
      ]
     },
     "execution_count": 10,
     "metadata": {},
     "output_type": "execute_result"
    }
   ],
   "source": [
    "dados[\"idade\"]"
   ]
  },
  {
   "cell_type": "code",
   "execution_count": 11,
   "metadata": {},
   "outputs": [
    {
     "data": {
      "text/plain": [
       "'9876-5432'"
      ]
     },
     "execution_count": 11,
     "metadata": {},
     "output_type": "execute_result"
    }
   ],
   "source": [
    "dados[\"telefone\"]"
   ]
  },
  {
   "cell_type": "code",
   "execution_count": 16,
   "metadata": {},
   "outputs": [],
   "source": [
    "dados[\"nome\"] = \"Maria\""
   ]
  },
  {
   "cell_type": "code",
   "execution_count": 17,
   "metadata": {},
   "outputs": [],
   "source": [
    "dados[\"idade\"] = \"18\""
   ]
  },
  {
   "cell_type": "code",
   "execution_count": 18,
   "metadata": {},
   "outputs": [],
   "source": [
    "dados[\"telefone\"] = \"5432-2345\""
   ]
  },
  {
   "cell_type": "code",
   "execution_count": 19,
   "metadata": {},
   "outputs": [
    {
     "data": {
      "text/plain": [
       "{'nome': 'Maria', 'idade': '18', 'telefone': '5432-2345', 'Nome': 'Maria'}"
      ]
     },
     "execution_count": 19,
     "metadata": {},
     "output_type": "execute_result"
    }
   ],
   "source": [
    "dados # {'nome': 'Maria', 'idade': '18', 'telefone': '5432-2345', 'Nome': 'Maria'}"
   ]
  },
  {
   "attachments": {},
   "cell_type": "markdown",
   "metadata": {},
   "source": [
    " # Aninhado\n",
    "Cria um dicionário para cada chave.\n",
    "\n",
    "\n",
    "Para consultar indique a chave primeira e a chave do dicionário interno "
   ]
  },
  {
   "cell_type": "code",
   "execution_count": 20,
   "metadata": {},
   "outputs": [],
   "source": [
    "# Exemplo\n",
    "contatos = {\n",
    "    \"joao@sky.org\":{\"nome\":\"João\", \"telefone\": \"3333-0001\"},\n",
    "    \"paulo@sky.org\":{\"nome\":\"Paulo\", \"telefone\": \"3333-0002\"},\n",
    "    \"thiago@sky.org\":{\"nome\":\"Thiago\", \"telefone\": \"3333-0003\"},\n",
    "    \"lucas@sky.org\":{\"nome\":\"Lucas\", \"telefone\": \"3333-0004\"}\n",
    "}"
   ]
  },
  {
   "cell_type": "code",
   "execution_count": 21,
   "metadata": {},
   "outputs": [
    {
     "data": {
      "text/plain": [
       "'3333-0004'"
      ]
     },
     "execution_count": 21,
     "metadata": {},
     "output_type": "execute_result"
    }
   ],
   "source": [
    "contatos[\"lucas@sky.org\"][\"telefone\"] # '3333-0004'"
   ]
  },
  {
   "attachments": {},
   "cell_type": "markdown",
   "metadata": {},
   "source": [
    "# Iterar dicionários\n",
    "Pecorrer os dados de um dicionário"
   ]
  },
  {
   "cell_type": "code",
   "execution_count": 22,
   "metadata": {},
   "outputs": [
    {
     "name": "stdout",
     "output_type": "stream",
     "text": [
      "joao@sky.org {'nome': 'João', 'telefone': '3333-0001'}\n",
      "paulo@sky.org {'nome': 'Paulo', 'telefone': '3333-0002'}\n",
      "thiago@sky.org {'nome': 'Thiago', 'telefone': '3333-0003'}\n",
      "lucas@sky.org {'nome': 'Lucas', 'telefone': '3333-0004'}\n"
     ]
    }
   ],
   "source": [
    "for chave in contatos:\n",
    "    print(chave, contatos[chave])\n",
    "# joao@sky.org {'nome': 'João', 'telefone': '3333-0001'}\n",
    "# paulo@sky.org {'nome': 'Paulo', 'telefone': '3333-0002'}\n",
    "# thiago@sky.org {'nome': 'Thiago', 'telefone': '3333-0003'}\n",
    "# lucas@sky.org {'nome': 'Lucas', 'telefone': '3333-0004'}"
   ]
  },
  {
   "cell_type": "code",
   "execution_count": 23,
   "metadata": {},
   "outputs": [
    {
     "name": "stdout",
     "output_type": "stream",
     "text": [
      "joao@sky.org {'nome': 'João', 'telefone': '3333-0001'}\n",
      "paulo@sky.org {'nome': 'Paulo', 'telefone': '3333-0002'}\n",
      "thiago@sky.org {'nome': 'Thiago', 'telefone': '3333-0003'}\n",
      "lucas@sky.org {'nome': 'Lucas', 'telefone': '3333-0004'}\n"
     ]
    }
   ],
   "source": [
    "for chave, valor in contatos.items():\n",
    "    print(chave, valor)\n",
    "# joao@sky.org {'nome': 'João', 'telefone': '3333-0001'}\n",
    "# paulo@sky.org {'nome': 'Paulo', 'telefone': '3333-0002'}\n",
    "# thiago@sky.org {'nome': 'Thiago', 'telefone': '3333-0003'}\n",
    "# lucas@sky.org {'nome': 'Lucas', 'telefone': '3333-0004'}"
   ]
  },
  {
   "attachments": {},
   "cell_type": "markdown",
   "metadata": {},
   "source": [
    "# Métodos da classe dict"
   ]
  },
  {
   "attachments": {},
   "cell_type": "markdown",
   "metadata": {},
   "source": [
    "## clear"
   ]
  },
  {
   "cell_type": "code",
   "execution_count": 24,
   "metadata": {},
   "outputs": [],
   "source": [
    "contatos = {\n",
    "    \"joao@sky.org\":{\"nome\":\"João\", \"telefone\": \"3333-0001\"},\n",
    "    \"paulo@sky.org\":{\"nome\":\"Paulo\", \"telefone\": \"3333-0002\"},\n",
    "    \"thiago@sky.org\":{\"nome\":\"Thiago\", \"telefone\": \"3333-0003\"},\n",
    "    \"lucas@sky.org\":{\"nome\":\"Lucas\", \"telefone\": \"3333-0004\"}\n",
    "}"
   ]
  },
  {
   "cell_type": "code",
   "execution_count": 25,
   "metadata": {},
   "outputs": [
    {
     "data": {
      "text/plain": [
       "{}"
      ]
     },
     "execution_count": 25,
     "metadata": {},
     "output_type": "execute_result"
    }
   ],
   "source": [
    "contatos.clear()\n",
    "contatos # {}"
   ]
  },
  {
   "attachments": {},
   "cell_type": "markdown",
   "metadata": {},
   "source": [
    "## Copy"
   ]
  },
  {
   "cell_type": "code",
   "execution_count": 29,
   "metadata": {},
   "outputs": [],
   "source": [
    "contatos = { \n",
    "        \"joao@sky.org\":{\"nome\":\"João\", \"telefone\": \"3333-0001\"}\n",
    "}\n",
    "\n",
    "copia = contatos.copy()"
   ]
  },
  {
   "cell_type": "code",
   "execution_count": 30,
   "metadata": {},
   "outputs": [],
   "source": [
    "copia[\"joao@sky.org\"] = {\"nome\": \"Jão\"}"
   ]
  },
  {
   "cell_type": "code",
   "execution_count": 33,
   "metadata": {},
   "outputs": [
    {
     "data": {
      "text/plain": [
       "{'nome': 'João', 'telefone': '3333-0001'}"
      ]
     },
     "execution_count": 33,
     "metadata": {},
     "output_type": "execute_result"
    }
   ],
   "source": [
    "contatos[\"joao@sky.org\"] # {'nome': 'João', 'telefone': '3333-0001'}\n"
   ]
  },
  {
   "cell_type": "code",
   "execution_count": 34,
   "metadata": {},
   "outputs": [
    {
     "data": {
      "text/plain": [
       "{'nome': 'Jão'}"
      ]
     },
     "execution_count": 34,
     "metadata": {},
     "output_type": "execute_result"
    }
   ],
   "source": [
    "copia[\"joao@sky.org\"] # {'nome': 'Jão'}"
   ]
  },
  {
   "attachments": {},
   "cell_type": "markdown",
   "metadata": {},
   "source": [
    "## Fromkeys\n",
    "Cria chaves em um dicionário existente ou não."
   ]
  },
  {
   "cell_type": "code",
   "execution_count": 35,
   "metadata": {},
   "outputs": [
    {
     "data": {
      "text/plain": [
       "{'nome': None, 'telefone': None}"
      ]
     },
     "execution_count": 35,
     "metadata": {},
     "output_type": "execute_result"
    }
   ],
   "source": [
    "dict.fromkeys([\"nome\", \"telefone\"]) # {'nome': None, 'telefone': None}"
   ]
  },
  {
   "cell_type": "code",
   "execution_count": 36,
   "metadata": {},
   "outputs": [
    {
     "data": {
      "text/plain": [
       "{'nome': 'vazio', 'telefone': 'vazio'}"
      ]
     },
     "execution_count": 36,
     "metadata": {},
     "output_type": "execute_result"
    }
   ],
   "source": [
    "dict.fromkeys([\"nome\", \"telefone\"], \"vazio\") # {'nome': 'vazio', 'telefone': 'vazio'}"
   ]
  },
  {
   "attachments": {},
   "cell_type": "markdown",
   "metadata": {},
   "source": [
    "## Get\n",
    "Para pegar uma chave.\n",
    "Útil nos casos onde não se sabe se a chave existe.\n",
    "Pode retornar um valor indicado como argumento."
   ]
  },
  {
   "cell_type": "code",
   "execution_count": 37,
   "metadata": {},
   "outputs": [],
   "source": [
    "contatos = {\n",
    "    \"joao@sky.org\": {'nome': 'João', 'telefone': '3333-0001'}\n",
    "}"
   ]
  },
  {
   "cell_type": "code",
   "execution_count": 38,
   "metadata": {},
   "outputs": [
    {
     "ename": "KeyError",
     "evalue": "'chave'",
     "output_type": "error",
     "traceback": [
      "\u001b[0;31m---------------------------------------------------------------------------\u001b[0m",
      "\u001b[0;31mKeyError\u001b[0m                                  Traceback (most recent call last)",
      "Cell \u001b[0;32mIn[38], line 2\u001b[0m\n\u001b[1;32m      1\u001b[0m \u001b[39m# se procurar por uma chave que não existe retorna erro por esse método\u001b[39;00m\n\u001b[0;32m----> 2\u001b[0m contatos[\u001b[39m'\u001b[39;49m\u001b[39mchave\u001b[39;49m\u001b[39m'\u001b[39;49m]\n",
      "\u001b[0;31mKeyError\u001b[0m: 'chave'"
     ]
    }
   ],
   "source": [
    "# se procurar por uma chave que não existe retorna erro por esse método\n",
    "contatos['chave'] # KeyError: 'chave'"
   ]
  },
  {
   "cell_type": "code",
   "execution_count": 39,
   "metadata": {},
   "outputs": [],
   "source": [
    "contatos.get('chave') # Se não existe retornar None"
   ]
  },
  {
   "cell_type": "code",
   "execution_count": 40,
   "metadata": {},
   "outputs": [
    {
     "data": {
      "text/plain": [
       "{}"
      ]
     },
     "execution_count": 40,
     "metadata": {},
     "output_type": "execute_result"
    }
   ],
   "source": [
    "contatos.get('chave', {}) # Se não existe retorna dict vazio\n",
    "# {}"
   ]
  },
  {
   "cell_type": "code",
   "execution_count": 41,
   "metadata": {},
   "outputs": [
    {
     "data": {
      "text/plain": [
       "{'nome': 'João', 'telefone': '3333-0001'}"
      ]
     },
     "execution_count": 41,
     "metadata": {},
     "output_type": "execute_result"
    }
   ],
   "source": [
    "contatos.get('joao@sky.org', {})\n",
    "# {'nome': 'João', 'telefone': '3333-0001'}"
   ]
  },
  {
   "attachments": {},
   "cell_type": "markdown",
   "metadata": {},
   "source": [
    "## Items"
   ]
  },
  {
   "cell_type": "code",
   "execution_count": 42,
   "metadata": {},
   "outputs": [
    {
     "data": {
      "text/plain": [
       "dict_items([('joao@sky.org', {'nome': 'João', 'telefone': '3333-0001'})])"
      ]
     },
     "execution_count": 42,
     "metadata": {},
     "output_type": "execute_result"
    }
   ],
   "source": [
    "contatos = {\n",
    "    \"joao@sky.org\": {'nome': 'João', 'telefone': '3333-0001'}\n",
    "}\n",
    "contatos.items()\n",
    "# dict_items([('joao@sky.org', {'nome': 'João', 'telefone': '3333-0001'})])"
   ]
  },
  {
   "attachments": {},
   "cell_type": "markdown",
   "metadata": {},
   "source": [
    "## Keys"
   ]
  },
  {
   "cell_type": "code",
   "execution_count": 43,
   "metadata": {},
   "outputs": [
    {
     "data": {
      "text/plain": [
       "dict_keys(['joao@sky.org'])"
      ]
     },
     "execution_count": 43,
     "metadata": {},
     "output_type": "execute_result"
    }
   ],
   "source": [
    "contatos = {\n",
    "    \"joao@sky.org\": {'nome': 'João', 'telefone': '3333-0001'}\n",
    "}\n",
    "contatos.keys()\n",
    "# Retorna as chaves do dict\n",
    "# dict_keys(['joao@sky.org'])"
   ]
  },
  {
   "attachments": {},
   "cell_type": "markdown",
   "metadata": {},
   "source": [
    "## Pop\n",
    "Utilizado para remover um item do dict.\n",
    "Retorna o valor do item removido.\n",
    "Pode indicar um valor que se deseja como retorno."
   ]
  },
  {
   "cell_type": "code",
   "execution_count": 44,
   "metadata": {},
   "outputs": [],
   "source": [
    "contatos = {\n",
    "    \"joao@sky.org\": {'nome': 'João', 'telefone': '3333-0001'}\n",
    "}"
   ]
  },
  {
   "cell_type": "code",
   "execution_count": 45,
   "metadata": {},
   "outputs": [
    {
     "data": {
      "text/plain": [
       "{'nome': 'João', 'telefone': '3333-0001'}"
      ]
     },
     "execution_count": 45,
     "metadata": {},
     "output_type": "execute_result"
    }
   ],
   "source": [
    "contatos.pop('joao@sky.org')"
   ]
  },
  {
   "cell_type": "code",
   "execution_count": 46,
   "metadata": {},
   "outputs": [
    {
     "data": {
      "text/plain": [
       "{}"
      ]
     },
     "execution_count": 46,
     "metadata": {},
     "output_type": "execute_result"
    }
   ],
   "source": [
    "contatos.pop('joao@sky.org', {})"
   ]
  },
  {
   "attachments": {},
   "cell_type": "markdown",
   "metadata": {},
   "source": [
    "## popitem"
   ]
  },
  {
   "cell_type": "code",
   "execution_count": 47,
   "metadata": {},
   "outputs": [
    {
     "data": {
      "text/plain": [
       "('joao@sky.org', {'nome': 'João', 'telefone': '3333-0001'})"
      ]
     },
     "execution_count": 47,
     "metadata": {},
     "output_type": "execute_result"
    }
   ],
   "source": [
    "contatos = {\n",
    "    \"joao@sky.org\": {'nome': 'João', 'telefone': '3333-0001'}\n",
    "}\n",
    "contatos.popitem()\n"
   ]
  },
  {
   "cell_type": "code",
   "execution_count": 48,
   "metadata": {},
   "outputs": [
    {
     "ename": "KeyError",
     "evalue": "'popitem(): dictionary is empty'",
     "output_type": "error",
     "traceback": [
      "\u001b[0;31m---------------------------------------------------------------------------\u001b[0m",
      "\u001b[0;31mKeyError\u001b[0m                                  Traceback (most recent call last)",
      "Cell \u001b[0;32mIn[48], line 1\u001b[0m\n\u001b[0;32m----> 1\u001b[0m contatos\u001b[39m.\u001b[39;49mpopitem()\n",
      "\u001b[0;31mKeyError\u001b[0m: 'popitem(): dictionary is empty'"
     ]
    }
   ],
   "source": [
    "contatos.popitem() # Caso não haja mais itens retorna KeyError"
   ]
  },
  {
   "attachments": {},
   "cell_type": "markdown",
   "metadata": {},
   "source": [
    "## Setdefault\n",
    "Útil para adicionar algum valor se caso ele não exista."
   ]
  },
  {
   "cell_type": "code",
   "execution_count": 49,
   "metadata": {},
   "outputs": [
    {
     "data": {
      "text/plain": [
       "{'nome': 'João', 'telefone': '3333-0001'}"
      ]
     },
     "execution_count": 49,
     "metadata": {},
     "output_type": "execute_result"
    }
   ],
   "source": [
    "contato = {'nome': 'João', 'telefone': '3333-0001'}\n",
    "\n",
    "contato.setdefault('nome', 'Maria') # Se já existe a chave não altera\n",
    "\n",
    "contato\n",
    "# {'nome': 'João', 'telefone': '3333-0001'}\n"
   ]
  },
  {
   "cell_type": "code",
   "execution_count": 51,
   "metadata": {},
   "outputs": [
    {
     "data": {
      "text/plain": [
       "{'nome': 'João', 'telefone': '3333-0001', 'idade': 18}"
      ]
     },
     "execution_count": 51,
     "metadata": {},
     "output_type": "execute_result"
    }
   ],
   "source": [
    "contato.setdefault('idade', 18) # adiciona caso não exista\n",
    "contato\n",
    "# {'nome': 'João', 'telefone': '3333-0001', 'idade': 18}"
   ]
  },
  {
   "attachments": {},
   "cell_type": "markdown",
   "metadata": {},
   "source": [
    "## Update\n",
    "Atualiza o dict com novo dict.\n",
    "Se houver chaves que não existem, ele adiciona as novas chaves em um novo dict."
   ]
  },
  {
   "cell_type": "code",
   "execution_count": 52,
   "metadata": {},
   "outputs": [],
   "source": [
    "contatos = {\n",
    "    'joao@sky.org':{'nome': 'João', 'telefone': '3333-0001'}\n",
    "}"
   ]
  },
  {
   "cell_type": "code",
   "execution_count": 53,
   "metadata": {},
   "outputs": [
    {
     "data": {
      "text/plain": [
       "{'joao@sky.org': {'nome': 'João'}}"
      ]
     },
     "execution_count": 53,
     "metadata": {},
     "output_type": "execute_result"
    }
   ],
   "source": [
    "contatos.update({'joao@sky.org': {'nome':'João'}})\n",
    "contatos"
   ]
  },
  {
   "cell_type": "code",
   "execution_count": 54,
   "metadata": {},
   "outputs": [
    {
     "data": {
      "text/plain": [
       "{'joao@sky.org': {'nome': 'João'},\n",
       " 'maria@sky.org': {'nome': 'Maria', 'telefone': '3322-2233'}}"
      ]
     },
     "execution_count": 54,
     "metadata": {},
     "output_type": "execute_result"
    }
   ],
   "source": [
    "contatos.update({'maria@sky.org': {'nome':'Maria', 'telefone':'3322-2233'}})\n",
    "contatos"
   ]
  },
  {
   "attachments": {},
   "cell_type": "markdown",
   "metadata": {},
   "source": [
    "## Values\n",
    "Retorna os valores do dict"
   ]
  },
  {
   "cell_type": "code",
   "execution_count": 55,
   "metadata": {},
   "outputs": [
    {
     "data": {
      "text/plain": [
       "dict_values([{'nome': 'João'}, {'nome': 'Maria', 'telefone': '3322-2233'}])"
      ]
     },
     "execution_count": 55,
     "metadata": {},
     "output_type": "execute_result"
    }
   ],
   "source": [
    "contatos.values()"
   ]
  },
  {
   "attachments": {},
   "cell_type": "markdown",
   "metadata": {},
   "source": [
    "# In\n",
    "Verifica se a chave existe no dict"
   ]
  },
  {
   "cell_type": "code",
   "execution_count": 56,
   "metadata": {},
   "outputs": [],
   "source": [
    "contatos = {\n",
    "    \"joao@sky.org\":{\"nome\":\"João\", \"telefone\": \"3333-0001\"},\n",
    "    \"paulo@sky.org\":{\"nome\":\"Paulo\", \"telefone\": \"3333-0002\"},\n",
    "    \"thiago@sky.org\":{\"nome\":\"Thiago\", \"telefone\": \"3333-0003\"},\n",
    "    \"lucas@sky.org\":{\"nome\":\"Lucas\", \"telefone\": \"3333-0004\"}\n",
    "}"
   ]
  },
  {
   "cell_type": "code",
   "execution_count": 57,
   "metadata": {},
   "outputs": [
    {
     "data": {
      "text/plain": [
       "True"
      ]
     },
     "execution_count": 57,
     "metadata": {},
     "output_type": "execute_result"
    }
   ],
   "source": [
    "'joao@sky.org' in contatos"
   ]
  },
  {
   "cell_type": "code",
   "execution_count": 58,
   "metadata": {},
   "outputs": [
    {
     "data": {
      "text/plain": [
       "False"
      ]
     },
     "execution_count": 58,
     "metadata": {},
     "output_type": "execute_result"
    }
   ],
   "source": [
    "'jao@sky.org' in contatos"
   ]
  },
  {
   "cell_type": "code",
   "execution_count": 59,
   "metadata": {},
   "outputs": [
    {
     "data": {
      "text/plain": [
       "False"
      ]
     },
     "execution_count": 59,
     "metadata": {},
     "output_type": "execute_result"
    }
   ],
   "source": [
    "'idade' in contatos"
   ]
  },
  {
   "cell_type": "code",
   "execution_count": 60,
   "metadata": {},
   "outputs": [
    {
     "data": {
      "text/plain": [
       "False"
      ]
     },
     "execution_count": 60,
     "metadata": {},
     "output_type": "execute_result"
    }
   ],
   "source": [
    "'telefone' in contatos"
   ]
  },
  {
   "attachments": {},
   "cell_type": "markdown",
   "metadata": {},
   "source": [
    "## Del\n",
    "Remove o objeto indicado"
   ]
  },
  {
   "cell_type": "code",
   "execution_count": 61,
   "metadata": {},
   "outputs": [],
   "source": [
    "del contatos['joao@sky.org']['telefone']"
   ]
  },
  {
   "cell_type": "code",
   "execution_count": 62,
   "metadata": {},
   "outputs": [],
   "source": [
    "del contatos['thiago@sky.org']"
   ]
  },
  {
   "cell_type": "code",
   "execution_count": 63,
   "metadata": {},
   "outputs": [
    {
     "data": {
      "text/plain": [
       "{'joao@sky.org': {'nome': 'João'},\n",
       " 'paulo@sky.org': {'nome': 'Paulo', 'telefone': '3333-0002'},\n",
       " 'lucas@sky.org': {'nome': 'Lucas', 'telefone': '3333-0004'}}"
      ]
     },
     "execution_count": 63,
     "metadata": {},
     "output_type": "execute_result"
    }
   ],
   "source": [
    "contatos\n",
    "# caso utilize del contatos = remove o dict inteiro"
   ]
  }
 ],
 "metadata": {
  "kernelspec": {
   "display_name": "Python 3",
   "language": "python",
   "name": "python3"
  },
  "language_info": {
   "codemirror_mode": {
    "name": "ipython",
    "version": 3
   },
   "file_extension": ".py",
   "mimetype": "text/x-python",
   "name": "python",
   "nbconvert_exporter": "python",
   "pygments_lexer": "ipython3",
   "version": "3.10.9"
  },
  "orig_nbformat": 4,
  "vscode": {
   "interpreter": {
    "hash": "e7370f93d1d0cde622a1f8e1c04877d8463912d04d973331ad4851f04de6915a"
   }
  }
 },
 "nbformat": 4,
 "nbformat_minor": 2
}
