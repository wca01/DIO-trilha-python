{
 "cells": [
  {
   "attachments": {},
   "cell_type": "markdown",
   "metadata": {},
   "source": [
    "# Polimporfismo\n",
    "\n",
    "A palavra polimorfismo significa ter muitas formas.\n",
    "\n",
    " Na\n",
    "programação, polimorfismo significa o mesmo nome de função\n",
    "(mas assinaturas diferentes) sendo usado para tipos\n",
    "diferentes."
   ]
  },
  {
   "attachments": {},
   "cell_type": "markdown",
   "metadata": {},
   "source": [
    "Na herança, a classe filha herda os métodos da classe pai. \n",
    "\n",
    "No\n",
    "entanto, é possível modificar um método em uma classe filha\n",
    "herdada da classe pai. \n",
    "\n",
    "Isso é particularmente útil nos casos em\n",
    "que o método herdado da classe pai não se encaixa\n",
    "perfeitamente na classe filha."
   ]
  },
  {
   "attachments": {},
   "cell_type": "markdown",
   "metadata": {},
   "source": [
    "## Exemplo\n",
    "```python\n",
    "class Passaro:\n",
    "    def voar(self): pass\n",
    "\n",
    "class Pardal(Passaro):\n",
    "    def voar(self):\n",
    "        print(\"Pardal voa\")\n",
    "\n",
    "class Avestruz(Passaro):\n",
    "    def voar(self):\n",
    "        print(\"Avestruz não voa\")\n",
    "\n",
    "def plano_de_voo(passaro):\n",
    "    passaro.voar()\n",
    "\n",
    "plano_de_voo(Pardal())\n",
    "plano_de_voo(Avestruz())\n",
    "```"
   ]
  },
  {
   "cell_type": "code",
   "execution_count": 1,
   "metadata": {},
   "outputs": [
    {
     "name": "stdout",
     "output_type": "stream",
     "text": [
      "Pardal pode voar\n",
      "Avestruz não pode voar\n",
      "Avião está decolando...\n"
     ]
    }
   ],
   "source": [
    "class Passaro:\n",
    "    def voar(self):\n",
    "        print(\"Voando...\")\n",
    "\n",
    "\n",
    "class Pardal(Passaro):\n",
    "    def voar(self):\n",
    "        print(\"Pardal pode voar\")\n",
    "\n",
    "\n",
    "class Avestruz(Passaro):\n",
    "    def voar(self):\n",
    "        print(\"Avestruz não pode voar\")\n",
    "\n",
    "\n",
    "# NOTE: exemplo ruim do uso de herança para \"ganhar\" o método voar\n",
    "class Aviao(Passaro):\n",
    "    def voar(self):\n",
    "        print(\"Avião está decolando...\")\n",
    "\n",
    "\n",
    "def plano_voo(obj):\n",
    "    obj.voar()\n",
    "\n",
    "\n",
    "plano_voo(Pardal())\n",
    "plano_voo(Avestruz())\n",
    "plano_voo(Aviao())"
   ]
  }
 ],
 "metadata": {
  "kernelspec": {
   "display_name": "Python 3",
   "language": "python",
   "name": "python3"
  },
  "language_info": {
   "codemirror_mode": {
    "name": "ipython",
    "version": 3
   },
   "file_extension": ".py",
   "mimetype": "text/x-python",
   "name": "python",
   "nbconvert_exporter": "python",
   "pygments_lexer": "ipython3",
   "version": "3.10.10"
  },
  "orig_nbformat": 4
 },
 "nbformat": 4,
 "nbformat_minor": 2
}
