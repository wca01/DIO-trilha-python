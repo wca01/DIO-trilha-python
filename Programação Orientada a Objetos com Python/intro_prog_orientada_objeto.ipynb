{
 "cells": [
  {
   "attachments": {},
   "cell_type": "markdown",
   "metadata": {},
   "source": [
    "# Introdução à programação Orientada a objetos com Python"
   ]
  },
  {
   "attachments": {},
   "cell_type": "markdown",
   "metadata": {},
   "source": [
    "## Paradigma de programação\n",
    "\n",
    "Um paradigma de programação é um estilo e programação.\n",
    "\n",
    "Não é uma linguagem (Python, Java, C, etc), e sim a forma\n",
    "como você soluciona os problemas através do código.\n",
    "\n",
    "**Exemplo**\n",
    "\n",
    "Problema: Beber água\n",
    "Solução 1: Usar um copo para beber água.\n",
    "Solução 2: Usar uma garrafa para beber água.\n",
    "\n",
    "## Programação orientada a objetos\n",
    "\n",
    "O paradigma de programação orientada a objetos estrutura o\n",
    "código abstraindo problemas em objetos do mundo real,\n",
    "facilitando o entendimento do código e tornando-o mais\n",
    "modular e extensível. Os dois conceitos chaves para aprender\n",
    "POO são: classes e objetos.\n",
    "\n",
    "## Classes e objetos\n",
    "\n",
    "Uma classe define as características e comportamentos de um\n",
    "objeto, porém não conseguimos usá-las diretamente. \n",
    "\n",
    "Já os\n",
    "objetos podemos usá-los e eles possuem as características e\n",
    "comportamentos que foram definidos nas classes."
   ]
  },
  {
   "attachments": {},
   "cell_type": "markdown",
   "metadata": {},
   "source": [
    "## Primeiro desafio\n",
    "\n",
    "João tem uma bicicletaria e gostaria de registrar as vendas de\n",
    "suas bicicletas. \n",
    "\n",
    "Crie um programa onde João informe: cor,\n",
    "modelo, ano e valor da bicicleta vendida. Uma bicicleta pode:\n",
    "buzinar, parar e correr. \n",
    "\n",
    "Adicione esses comportamentos!"
   ]
  },
  {
   "cell_type": "code",
   "execution_count": 2,
   "metadata": {},
   "outputs": [
    {
     "name": "stdout",
     "output_type": "stream",
     "text": [
      "fom fom...\n",
      "Andando...\n",
      "Parando a bicicleta...\n",
      "Bicicleta parada...\n",
      "vermelha caloi 2022 600\n",
      "<__main__.Bicicleta object at 0x7fd0c74b8b80>\n"
     ]
    }
   ],
   "source": [
    "class Bicicleta:\n",
    "    def __init__(self, cor, modelo, ano, valor):\n",
    "        self.cor = cor\n",
    "        self.modelo = modelo\n",
    "        self.ano = ano\n",
    "        self.valor = valor\n",
    "    # declarando métodos (são como funções)\n",
    "    def buzinar(self):\n",
    "        print(\"fom fom...\")\n",
    "    def parar(self):\n",
    "        print(\"Parando a bicicleta...\")\n",
    "        print(\"Bicicleta parada...\")\n",
    "    def correr(self):\n",
    "        print(\"Andando...\") \n",
    "\n",
    "bi = Bicicleta(\"vermelha\", \"caloi\", 2022, 600 )\n",
    "bi.buzinar()\n",
    "bi.correr()\n",
    "bi.parar()\n",
    "\n",
    "print (bi.cor, bi.modelo, bi.ano, bi.valor)\n",
    "\n",
    "b2 = Bicicleta(\"verde\", \"monark\", 2000, 190)\n",
    "print(b2)"
   ]
  },
  {
   "cell_type": "code",
   "execution_count": 4,
   "metadata": {},
   "outputs": [
    {
     "name": "stdout",
     "output_type": "stream",
     "text": [
      "vermelha caloi 2022 600\n",
      "Bicicleta : cor = verde , modelo = monark , ano = 2000 , valor = 190\n"
     ]
    }
   ],
   "source": [
    "class Bicicleta:\n",
    "    def __init__(self, cor, modelo, ano, valor):\n",
    "        self.cor = cor\n",
    "        self.modelo = modelo\n",
    "        self.ano = ano\n",
    "        self.valor = valor\n",
    "    # declarando métodos (são como funções)\n",
    "    def buzinar(self):\n",
    "        print(\"fom fom...\")\n",
    "    def parar(self):\n",
    "        print(\"Parando a bicicleta...\")\n",
    "        print(\"Bicicleta parada...\")\n",
    "    def correr(self):\n",
    "        print(\"Andando...\") \n",
    "    \n",
    "    # para mudar a saída <__main__.Bicicleta object at 0x7fd0... usando a formatação a seguir:\n",
    "    def __str__(self):\n",
    "        return f\"{self.__class__.__name__} : {' , '.join([f'{chave} = {valor}' for chave, valor in self.__dict__.items()])}\"\n",
    "\n",
    "print (bi.cor, bi.modelo, bi.ano, bi.valor)\n",
    "\n",
    "b2 = Bicicleta(\"verde\", \"monark\", 2000, 190)\n",
    "print(b2)"
   ]
  },
  {
   "attachments": {},
   "cell_type": "markdown",
   "metadata": {},
   "source": [
    "## Métodos **__init__** e **__del__**"
   ]
  },
  {
   "attachments": {},
   "cell_type": "markdown",
   "metadata": {},
   "source": [
    "## Método construtor (Inicializador)\n",
    "\n",
    "O método construtor sempre é executado quando uma nova\n",
    "instância da classe é criada. \n",
    "\n",
    "Nesse método inicializamos o\n",
    "estado do nosso objeto. \n",
    "\n",
    "Para declarar o método construtor da\n",
    "classe, criamos um método com o nome __init__."
   ]
  },
  {
   "attachments": {},
   "cell_type": "markdown",
   "metadata": {},
   "source": [
    "método __ init__\n",
    "\n",
    "```python\n",
    "\n",
    "class Cachorro:\n",
    "    def __init__(self, nome, cor, acordado=True):\n",
    "        self.nome = nome\n",
    "        self.cor = cor\n",
    "        self.acordado = acordado\n",
    "```"
   ]
  },
  {
   "attachments": {},
   "cell_type": "markdown",
   "metadata": {},
   "source": [
    "## Método destrutor\n",
    "\n",
    "O método destrutor sempre é executado quando uma\n",
    "instância (objeto) é destruída. \n",
    "\n",
    "Destrutores em Python não são\n",
    "tão necessários quanto em C++ porque o Pyton tem um coletor\n",
    "de lixo que lida com o gerenciamento de memória\n",
    "automaticamente. \n",
    "\n",
    "Para declarar o método destrutor da classe,\n",
    "criamos um método com o nome __del__."
   ]
  },
  {
   "attachments": {},
   "cell_type": "markdown",
   "metadata": {},
   "source": [
    "método __ del__\n",
    "```python\n",
    "class Cachorro:\n",
    "    def __del__(self):\n",
    "        print(\"Destruindo a instância\")\n",
    "\n",
    "c = Cachorro()\n",
    "del c\n",
    "```"
   ]
  },
  {
   "attachments": {},
   "cell_type": "markdown",
   "metadata": {},
   "source": [
    "## Exemplos\n"
   ]
  },
  {
   "cell_type": "code",
   "execution_count": 4,
   "metadata": {},
   "outputs": [
    {
     "name": "stdout",
     "output_type": "stream",
     "text": [
      "iniciando a classe...\n",
      "Au Au Au...\n",
      "iniciando a classe...\n",
      "rex\n",
      "Removendo a instância da classe...\n"
     ]
    }
   ],
   "source": [
    "class Cachorro:\n",
    "    def __init__(self, nome, cor, acordado=True):\n",
    "        print(\"iniciando a classe...\")\n",
    "        self.nome = nome\n",
    "        self.cor = cor\n",
    "        self.acordado = acordado\n",
    "    def __del__(self):\n",
    "        print(\"Removendo a instância da classe...\")\n",
    "\n",
    "    def falar(self):\n",
    "        print(\"Au Au Au...\")\n",
    "\n",
    "def criar_cachorro():\n",
    "    c = Cachorro(\"rex\", \"preto\", False)\n",
    "    print(c.nome)\n",
    "\n",
    "c = Cachorro(\"totó\", \"marrom\")\n",
    "c.falar()\n",
    "\n",
    "criar_cachorro()"
   ]
  },
  {
   "cell_type": "code",
   "execution_count": 5,
   "metadata": {},
   "outputs": [
    {
     "name": "stdout",
     "output_type": "stream",
     "text": [
      "Inicializando a classe...\n",
      "Removendo a instância da classe...\n",
      "auau\n",
      "Ola mundo\n",
      "Removendo a instância da classe.\n",
      "Ola mundo\n",
      "Ola mundo\n",
      "Ola mundo\n"
     ]
    }
   ],
   "source": [
    "# professor\n",
    "class Cachorro:\n",
    "    def __init__(self, nome, cor, acordado=True):\n",
    "        print(\"Inicializando a classe...\")\n",
    "        self.nome = nome\n",
    "        self.cor = cor\n",
    "        self.acordado = acordado\n",
    "\n",
    "    def __del__(self):\n",
    "        print(\"Removendo a instância da classe.\")\n",
    "\n",
    "    def falar(self):\n",
    "        print(\"auau\")\n",
    "\n",
    "\n",
    "def criar_cachorro():\n",
    "    c = Cachorro(\"Zeus\", \"Branco e preto\", False)\n",
    "    print(c.nome)\n",
    "\n",
    "\n",
    "c = Cachorro(\"Chappie\", \"amarelo\")\n",
    "c.falar()\n",
    "\n",
    "print(\"Ola mundo\")\n",
    "\n",
    "del c\n",
    "\n",
    "print(\"Ola mundo\")\n",
    "print(\"Ola mundo\")\n",
    "print(\"Ola mundo\")\n",
    "\n",
    "# criar_cachorro()"
   ]
  }
 ],
 "metadata": {
  "kernelspec": {
   "display_name": "Python 3",
   "language": "python",
   "name": "python3"
  },
  "language_info": {
   "codemirror_mode": {
    "name": "ipython",
    "version": 3
   },
   "file_extension": ".py",
   "mimetype": "text/x-python",
   "name": "python",
   "nbconvert_exporter": "python",
   "pygments_lexer": "ipython3",
   "version": "3.10.10"
  },
  "orig_nbformat": 4
 },
 "nbformat": 4,
 "nbformat_minor": 2
}
