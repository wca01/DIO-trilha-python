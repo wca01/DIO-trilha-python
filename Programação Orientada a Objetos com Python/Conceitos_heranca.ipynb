{
 "cells": [
  {
   "attachments": {},
   "cell_type": "markdown",
   "metadata": {},
   "source": [
    "# Conceitos de herança"
   ]
  },
  {
   "attachments": {},
   "cell_type": "markdown",
   "metadata": {},
   "source": [
    "Em programação herança é a capacidade de uma classe filha\n",
    "derivar ou herdar as características e comportamentos da\n",
    "classe pai (base).\n",
    "\n",
    "* Representa bem os relacionamentos do mundo real.\n",
    "* Fornece reutilização de código, não precisamos escrever o\n",
    "mesmo código repetidamente. Além disso, permite\n",
    "adicionar mais recursos a uma classe sem modificá-la.\n",
    "* É de natureza transitiva, o que significa que, se a classe B\n",
    "herdar da classe A, todas as subclasses de B herdarão\n",
    "automaticamente da classe A."
   ]
  },
  {
   "attachments": {},
   "cell_type": "markdown",
   "metadata": {},
   "source": [
    "## Sintaxe da herança\n",
    "```python\n",
    "class A:\n",
    "    pass\n",
    "class B(A):\n",
    "    pass\n",
    "```"
   ]
  },
  {
   "attachments": {},
   "cell_type": "markdown",
   "metadata": {},
   "source": [
    "## Herança simples\n",
    "\n",
    "Quando uma classe filha herda apenas uma classe pai, ela é\n",
    "chamada de herança simples."
   ]
  },
  {
   "attachments": {},
   "cell_type": "markdown",
   "metadata": {},
   "source": [
    "## Exemplo\n",
    "```python\n",
    "class A:\n",
    "    pass\n",
    "class B(A):\n",
    "    pass\n",
    "```"
   ]
  },
  {
   "attachments": {},
   "cell_type": "markdown",
   "metadata": {},
   "source": [
    "## Herança múltipla\n",
    "\n",
    "Quando uma classe filha herda de várias classes pai, ela é\n",
    "chamada de herança múltipla.\n"
   ]
  },
  {
   "attachments": {},
   "cell_type": "markdown",
   "metadata": {},
   "source": [
    "## Exemplo\n",
    "```python\n",
    "class A:\n",
    "    pass\n",
    "class B:\n",
    "    pass\n",
    "class C(A,B):\n",
    "    pass\n",
    "```"
   ]
  },
  {
   "cell_type": "code",
   "execution_count": 1,
   "metadata": {},
   "outputs": [
    {
     "name": "stdout",
     "output_type": "stream",
     "text": [
      "Motocicleta: cor=preta, placa=abc-1234, numero_rodas=2\n",
      "Carro: cor=branco, placa=xde-0098, numero_rodas=4\n",
      "Caminhao: cor=roxo, placa=gfd-8712, numero_rodas=8, carregado=True\n"
     ]
    }
   ],
   "source": [
    "# Herança simples - código\n",
    "\n",
    "class Veiculo:\n",
    "    def __init__(self, cor, placa, numero_rodas):\n",
    "        self.cor = cor\n",
    "        self.placa = placa\n",
    "        self.numero_rodas = numero_rodas\n",
    "\n",
    "    def ligar_motor(self):\n",
    "        print(\"Ligando o motor\")\n",
    "\n",
    "    def __str__(self):\n",
    "        return f\"{self.__class__.__name__}: {', '.join([f'{chave}={valor}' for chave, valor in self.__dict__.items()])}\"\n",
    "\n",
    "\n",
    "class Motocicleta(Veiculo):\n",
    "    pass\n",
    "\n",
    "\n",
    "class Carro(Veiculo):\n",
    "    pass\n",
    "\n",
    "\n",
    "class Caminhao(Veiculo):\n",
    "    def __init__(self, cor, placa, numero_rodas, carregado):\n",
    "        super().__init__(cor, placa, numero_rodas)\n",
    "        self.carregado = carregado\n",
    "\n",
    "    def esta_carregado(self):\n",
    "        print(f\"{'Sim' if self.carregado else 'Não'} estou carregado\")\n",
    "\n",
    "\n",
    "moto = Motocicleta(\"preta\", \"abc-1234\", 2)\n",
    "carro = Carro(\"branco\", \"xde-0098\", 4)\n",
    "caminhao = Caminhao(\"roxo\", \"gfd-8712\", 8, True)\n",
    "\n",
    "print(moto)\n",
    "print(carro)\n",
    "print(caminhao)\n"
   ]
  },
  {
   "cell_type": "code",
   "execution_count": 1,
   "metadata": {},
   "outputs": [
    {
     "name": "stdout",
     "output_type": "stream",
     "text": [
      "Gato: cor_pelo=Preto, nro_patas=4\n",
      "Ornitorrinco: cor_pelo=vermelho, cor_bico=laranja, nro_patas=2\n"
     ]
    }
   ],
   "source": [
    "# Herança múltipla\n",
    "\n",
    "class Animal:\n",
    "    def __init__(self, nro_patas):\n",
    "        self.nro_patas = nro_patas\n",
    "\n",
    "    def __str__(self):\n",
    "        return f\"{self.__class__.__name__}: {', '.join([f'{chave}={valor}' for chave, valor in self.__dict__.items()])}\"\n",
    "\n",
    "\n",
    "class Mamifero(Animal):\n",
    "    def __init__(self, cor_pelo, **kw):\n",
    "        self.cor_pelo = cor_pelo\n",
    "        super().__init__(**kw)\n",
    "\n",
    "\n",
    "class Ave(Animal):\n",
    "    def __init__(self, cor_bico, **kw):\n",
    "        self.cor_bico = cor_bico\n",
    "        super().__init__(**kw)\n",
    "\n",
    "\n",
    "class Gato(Mamifero):\n",
    "    pass\n",
    "\n",
    "\n",
    "class Ornitorrinco(Mamifero, Ave):\n",
    "    def __init__(self, cor_bico, cor_pelo, nro_patas):\n",
    "        super().__init__(cor_pelo=cor_pelo, cor_bico=cor_bico, nro_patas=nro_patas)\n",
    "\n",
    "\n",
    "gato = Gato(nro_patas=4, cor_pelo=\"Preto\")\n",
    "print(gato)\n",
    "\n",
    "ornitorrinco = Ornitorrinco(nro_patas=2, cor_pelo=\"vermelho\", cor_bico=\"laranja\")\n",
    "print(ornitorrinco)\n"
   ]
  },
  {
   "cell_type": "code",
   "execution_count": 4,
   "metadata": {},
   "outputs": [
    {
     "name": "stdout",
     "output_type": "stream",
     "text": [
      "(<class '__main__.Ornitorrinco'>, <class '__main__.Mamifero'>, <class '__main__.Ave'>, <class '__main__.Animal'>, <class 'object'>)\n"
     ]
    }
   ],
   "source": [
    "class Animal:\n",
    "    def __init__(self, nro_patas):\n",
    "        self.nro_patas = nro_patas\n",
    "\n",
    "    def __str__(self):\n",
    "        return f\"{self.__class__.__name__}: {', '.join([f'{chave}={valor}' for chave, valor in self.__dict__.items()])}\"\n",
    "\n",
    "\n",
    "class Mamifero(Animal):\n",
    "    def __init__(self, cor_pelo, **kw):\n",
    "        self.cor_pelo = cor_pelo\n",
    "        super().__init__(**kw)\n",
    "\n",
    "\n",
    "class Ave(Animal):\n",
    "    def __init__(self, cor_bico, **kw):\n",
    "        self.cor_bico = cor_bico\n",
    "        super().__init__(**kw)\n",
    "\n",
    "\n",
    "class Gato(Mamifero):\n",
    "    pass\n",
    "\n",
    "\n",
    "class Ornitorrinco(Mamifero, Ave):\n",
    "    def __init__(self, cor_bico, cor_pelo, nro_patas):\n",
    "        super().__init__(cor_pelo=cor_pelo, cor_bico=cor_bico, nro_patas=nro_patas)\n",
    "\n",
    "\n",
    "# mostra a ordem de resolução do Python para encontrar os atributos e métodos das classe. \n",
    "# O python lê do filho para o pai. \n",
    "# método de classe\n",
    "print(Ornitorrinco.__mro__) \n",
    "\n",
    "# print(Ornitorrinco.mro)"
   ]
  },
  {
   "cell_type": "code",
   "execution_count": 5,
   "metadata": {},
   "outputs": [
    {
     "name": "stdout",
     "output_type": "stream",
     "text": [
      "bar\n"
     ]
    }
   ],
   "source": [
    "class Foo:\n",
    "\n",
    "    def hello(self):\n",
    "\n",
    "        print(self.__class__.__name__.lower())\n",
    "\n",
    "\n",
    "\n",
    "\n",
    "\n",
    "class Bar(Foo):\n",
    "\n",
    "    def hello(self):\n",
    "\n",
    "        return super().hello()\n",
    "\n",
    "\n",
    "\n",
    "\n",
    "\n",
    "bar = Bar()\n",
    "\n",
    "bar.hello()"
   ]
  }
 ],
 "metadata": {
  "kernelspec": {
   "display_name": "Python 3",
   "language": "python",
   "name": "python3"
  },
  "language_info": {
   "codemirror_mode": {
    "name": "ipython",
    "version": 3
   },
   "file_extension": ".py",
   "mimetype": "text/x-python",
   "name": "python",
   "nbconvert_exporter": "python",
   "pygments_lexer": "ipython3",
   "version": "3.10.10"
  },
  "orig_nbformat": 4
 },
 "nbformat": 4,
 "nbformat_minor": 2
}
