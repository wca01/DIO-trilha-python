{
 "cells": [
  {
   "attachments": {},
   "cell_type": "markdown",
   "metadata": {},
   "source": [
    "# Funções Python\n",
    "\n",
    "## Estudo sobre funções\n",
    "\n",
    "Função = bloco de código, identificado com nome.\n",
    "\n",
    "Pode receber uma lista de parâmetros, podem ou não ter valores padrões. \n",
    "\n",
    "Programar baseado em funções, é o mesmo que programar de maneira estruturada.\n"
   ]
  },
  {
   "cell_type": "code",
   "execution_count": 2,
   "metadata": {},
   "outputs": [
    {
     "name": "stdout",
     "output_type": "stream",
     "text": [
      "Olá mundo!\n",
      "Seja bem vindo Jose!\n",
      "Seja bem vindo Anônimo!\n",
      "Seja bem vindo Carlos!\n"
     ]
    }
   ],
   "source": [
    "# Exemplo\n",
    "\n",
    "def exibir_mensagem():\n",
    "    print(\"Olá mundo!\")\n",
    "\n",
    "def exibir_mensagem_2(nome):\n",
    "    print(f\"Seja bem vindo {nome}!\")\n",
    "    \n",
    "def exibir_mensagem_3(nome=\"Anônimo\"):\n",
    "    print(f\"Seja bem vindo {nome}!\")\n",
    "\n",
    "exibir_mensagem()\n",
    "exibir_mensagem_2(nome=\"Jose\")\n",
    "exibir_mensagem_3()\n",
    "exibir_mensagem_3(nome=\"Carlos\")"
   ]
  },
  {
   "attachments": {},
   "cell_type": "markdown",
   "metadata": {},
   "source": [
    "## Retornando valores\n",
    "\n",
    "Para retornar um valor usamos a palavra reservada return.\n",
    "\n",
    "Toda função Python retorna None por padrão. \n",
    "\n",
    "Diferente de outras linguagens de programação, em Python uma função\n",
    "pode retornar mais de um valor."
   ]
  },
  {
   "cell_type": "code",
   "execution_count": 5,
   "metadata": {},
   "outputs": [],
   "source": [
    "# Exemplo\n",
    "\n",
    "def calcular_total(numeros):\n",
    "    return sum(numeros)\n",
    "\n",
    "def retorna_antecessor_e_sucessor(numero):\n",
    "    antecessor = numero - 1\n",
    "    sucessor = numero + 1\n",
    "    \n",
    "    return antecessor, sucessor\n"
   ]
  },
  {
   "cell_type": "code",
   "execution_count": 6,
   "metadata": {},
   "outputs": [
    {
     "data": {
      "text/plain": [
       "64"
      ]
     },
     "execution_count": 6,
     "metadata": {},
     "output_type": "execute_result"
    }
   ],
   "source": [
    "calcular_total([10, 20, 34]) # 64"
   ]
  },
  {
   "cell_type": "code",
   "execution_count": 7,
   "metadata": {},
   "outputs": [
    {
     "data": {
      "text/plain": [
       "(9, 11)"
      ]
     },
     "execution_count": 7,
     "metadata": {},
     "output_type": "execute_result"
    }
   ],
   "source": [
    "retorna_antecessor_e_sucessor(10) # (9, 11)"
   ]
  },
  {
   "attachments": {},
   "cell_type": "markdown",
   "metadata": {},
   "source": [
    "## Argumentos nomeados\n",
    "\n",
    "Funções podem ser chamadas usando argumentos nomeados da forma chave=valor.\n"
   ]
  },
  {
   "cell_type": "code",
   "execution_count": 17,
   "metadata": {},
   "outputs": [
    {
     "name": "stdout",
     "output_type": "stream",
     "text": [
      "Carro inserido com sucesso! Fiat/ Palio/ 1999/ ABC-1234\n",
      "Carro inserido com sucesso! Fiat/ Palio/ 1999/ ABC-1234\n",
      "Carro inserido com sucesso! Fiat/ Palio/ 1999/ ABC-1234\n"
     ]
    }
   ],
   "source": [
    "# Exemplo\n",
    "def salvar_carro(marca, modelo, ano, placa):\n",
    "# salva carro no banco de dados...\n",
    "    print(f\"Carro inserido com sucesso! {marca}/ {modelo}/ {ano}/ {placa}\")\n",
    " \n",
    "salvar_carro(\"Fiat\", \"Palio\", 1999, \"ABC-1234\")\n",
    "salvar_carro(marca=\"Fiat\", modelo=\"Palio\", ano=1999, placa=\"ABC-1234\")\n",
    "salvar_carro(**{\"marca\": \"Fiat\", \"modelo\": \"Palio\", \"ano\": 1999, \"placa\": \"ABC-1234\"})\n",
    "# Carro inserido com sucesso! Fiat/Palio/1999/ABC-1234"
   ]
  },
  {
   "attachments": {},
   "cell_type": "markdown",
   "metadata": {},
   "source": [
    "## Args e kwargs\n",
    "\n",
    "Podemos combinar parâmetros obrigatórios com args e kwargs.\n",
    "\n",
    "*args = método recebe valor tupla\n",
    "\n",
    "**kwargs = método recebe valor dicionário\n"
   ]
  },
  {
   "cell_type": "code",
   "execution_count": 20,
   "metadata": {},
   "outputs": [
    {
     "name": "stdout",
     "output_type": "stream",
     "text": [
      "sexta-feira, 26 agosto de 2022\n",
      "\n",
      "Zen of Python\n",
      "Beautiful is better than ugly.\n",
      "\n",
      "Autor: Tim Peters\n",
      "Ano: 1999\n"
     ]
    }
   ],
   "source": [
    "# def exibir_poema(data_extenso, *args, **kwargs):\n",
    "def exibir_poema(data_extenso, *lista, **dicionario):\n",
    "    texto = \"\\n\".join(lista)\n",
    "    meta_dados = \"\\n\".join([f\"{chave.title()}: {valor}\" for chave, valor in dicionario.items()])\n",
    "    mensagem = f\"{data_extenso}\\n\\n{texto}\\n\\n{meta_dados}\"\n",
    "    print(mensagem)\n",
    "\n",
    "exibir_poema(\"sexta-feira, 26 agosto de 2022\",\"Zen of Python\", \"Beautiful is better than ugly.\", autor=\"Tim Peters\", ano=1999)"
   ]
  },
  {
   "attachments": {},
   "cell_type": "markdown",
   "metadata": {},
   "source": [
    "## Parâmetros especiais\n",
    "\n",
    "Por padrão, argumentos são passados para uma função Python tanto por posição quanto explicitamente pelo nome.\n",
    "\n",
    "Para uma melhor legibilidade e desempenho, faz sentido restringir a maneira pelo qual argumentos possam ser passados, assim um desenvolvedor precisa apenas olhar para a definição da função para determinar se os itens são passados por posição, por posição e nome, ou por nome.\n"
   ]
  },
  {
   "attachments": {},
   "cell_type": "markdown",
   "metadata": {},
   "source": [
    " \n",
    " def f (pos1, pos2, / |, pos_or_kwd,| *, kwd1, kwd2):\n",
    " :----------------:|:------------------:|:-----------:\n",
    "Positional only | positional or keyword | Keyword only"
   ]
  },
  {
   "attachments": {},
   "cell_type": "markdown",
   "metadata": {},
   "source": [
    "## Position only"
   ]
  },
  {
   "cell_type": "code",
   "execution_count": 12,
   "metadata": {},
   "outputs": [
    {
     "name": "stdout",
     "output_type": "stream",
     "text": [
      "Palio 1999 ABC-1234 Fiat 1.0 Gasolina\n"
     ]
    },
    {
     "ename": "TypeError",
     "evalue": "criar_carro() got some positional-only arguments passed as keyword arguments: 'modelo, ano, placa'",
     "output_type": "error",
     "traceback": [
      "\u001b[0;31m---------------------------------------------------------------------------\u001b[0m",
      "\u001b[0;31mTypeError\u001b[0m                                 Traceback (most recent call last)",
      "Cell \u001b[0;32mIn[12], line 4\u001b[0m\n\u001b[1;32m      2\u001b[0m  \u001b[39mprint\u001b[39m(modelo, ano, placa, marca, motor, combustivel)\n\u001b[1;32m      3\u001b[0m criar_carro(\u001b[39m\"\u001b[39m\u001b[39mPalio\u001b[39m\u001b[39m\"\u001b[39m, \u001b[39m1999\u001b[39m, \u001b[39m\"\u001b[39m\u001b[39mABC-1234\u001b[39m\u001b[39m\"\u001b[39m, marca\u001b[39m=\u001b[39m\u001b[39m\"\u001b[39m\u001b[39mFiat\u001b[39m\u001b[39m\"\u001b[39m, motor\u001b[39m=\u001b[39m\u001b[39m\"\u001b[39m\u001b[39m1.0\u001b[39m\u001b[39m\"\u001b[39m, combustivel\u001b[39m=\u001b[39m\u001b[39m\"\u001b[39m\u001b[39mGasolina\u001b[39m\u001b[39m\"\u001b[39m) \u001b[39m# válido\u001b[39;00m\n\u001b[0;32m----> 4\u001b[0m criar_carro(modelo\u001b[39m=\u001b[39;49m\u001b[39m\"\u001b[39;49m\u001b[39mPalio\u001b[39;49m\u001b[39m\"\u001b[39;49m, ano\u001b[39m=\u001b[39;49m\u001b[39m1999\u001b[39;49m, placa\u001b[39m=\u001b[39;49m\u001b[39m\"\u001b[39;49m\u001b[39mABC-1234\u001b[39;49m\u001b[39m\"\u001b[39;49m, marca\u001b[39m=\u001b[39;49m\u001b[39m\"\u001b[39;49m\u001b[39mFiat\u001b[39;49m\u001b[39m\"\u001b[39;49m, motor\u001b[39m=\u001b[39;49m\u001b[39m\"\u001b[39;49m\u001b[39m1.0\u001b[39;49m\u001b[39m\"\u001b[39;49m, combustivel\u001b[39m=\u001b[39;49m\u001b[39m\"\u001b[39;49m\u001b[39mGasolina\u001b[39;49m\u001b[39m\"\u001b[39;49m) \u001b[39m# inválido\u001b[39;00m\n",
      "\u001b[0;31mTypeError\u001b[0m: criar_carro() got some positional-only arguments passed as keyword arguments: 'modelo, ano, placa'"
     ]
    }
   ],
   "source": [
    "def criar_carro(modelo, ano, placa, /, marca, motor, combustivel):\n",
    "    print(modelo, ano, placa, marca, motor, combustivel)\n",
    " \n",
    "criar_carro(\"Palio\", 1999, \"ABC-1234\", marca=\"Fiat\", motor=\"1.0\", combustivel=\"Gasolina\") # válido\n",
    "criar_carro(modelo=\"Palio\", ano=1999, placa=\"ABC-1234\", marca=\"Fiat\", motor=\"1.0\", combustivel=\"Gasolina\") # inválido"
   ]
  },
  {
   "attachments": {},
   "cell_type": "markdown",
   "metadata": {},
   "source": [
    "## Keyword only"
   ]
  },
  {
   "cell_type": "code",
   "execution_count": 13,
   "metadata": {},
   "outputs": [
    {
     "name": "stdout",
     "output_type": "stream",
     "text": [
      "Palio 1999 ABC-1234 Fiat 1.0 Gasolina\n"
     ]
    },
    {
     "ename": "TypeError",
     "evalue": "criar_carro() takes 0 positional arguments but 3 positional arguments (and 3 keyword-only arguments) were given",
     "output_type": "error",
     "traceback": [
      "\u001b[0;31m---------------------------------------------------------------------------\u001b[0m",
      "\u001b[0;31mTypeError\u001b[0m                                 Traceback (most recent call last)",
      "Cell \u001b[0;32mIn[13], line 5\u001b[0m\n\u001b[1;32m      2\u001b[0m  \u001b[39mprint\u001b[39m(modelo, ano, placa, marca, motor, combustivel)\n\u001b[1;32m      4\u001b[0m criar_carro(modelo\u001b[39m=\u001b[39m\u001b[39m\"\u001b[39m\u001b[39mPalio\u001b[39m\u001b[39m\"\u001b[39m, ano\u001b[39m=\u001b[39m\u001b[39m1999\u001b[39m, placa\u001b[39m=\u001b[39m\u001b[39m\"\u001b[39m\u001b[39mABC-1234\u001b[39m\u001b[39m\"\u001b[39m, marca\u001b[39m=\u001b[39m\u001b[39m\"\u001b[39m\u001b[39mFiat\u001b[39m\u001b[39m\"\u001b[39m,motor\u001b[39m=\u001b[39m\u001b[39m\"\u001b[39m\u001b[39m1.0\u001b[39m\u001b[39m\"\u001b[39m, combustivel\u001b[39m=\u001b[39m\u001b[39m\"\u001b[39m\u001b[39mGasolina\u001b[39m\u001b[39m\"\u001b[39m) \u001b[39m# válido\u001b[39;00m\n\u001b[0;32m----> 5\u001b[0m criar_carro(\u001b[39m\"\u001b[39;49m\u001b[39mPalio\u001b[39;49m\u001b[39m\"\u001b[39;49m, \u001b[39m1999\u001b[39;49m, \u001b[39m\"\u001b[39;49m\u001b[39mABC-1234\u001b[39;49m\u001b[39m\"\u001b[39;49m, marca\u001b[39m=\u001b[39;49m\u001b[39m\"\u001b[39;49m\u001b[39mFiat\u001b[39;49m\u001b[39m\"\u001b[39;49m, motor\u001b[39m=\u001b[39;49m\u001b[39m\"\u001b[39;49m\u001b[39m1.0\u001b[39;49m\u001b[39m\"\u001b[39;49m,combustivel\u001b[39m=\u001b[39;49m\u001b[39m\"\u001b[39;49m\u001b[39mGasolina\u001b[39;49m\u001b[39m\"\u001b[39;49m) \u001b[39m# inválido\u001b[39;00m\n",
      "\u001b[0;31mTypeError\u001b[0m: criar_carro() takes 0 positional arguments but 3 positional arguments (and 3 keyword-only arguments) were given"
     ]
    }
   ],
   "source": [
    "def criar_carro(*, modelo, ano, placa, marca, motor, combustivel):\n",
    " print(modelo, ano, placa, marca, motor, combustivel)\n",
    "\n",
    "criar_carro(modelo=\"Palio\", ano=1999, placa=\"ABC-1234\", marca=\"Fiat\",motor=\"1.0\", combustivel=\"Gasolina\") # válido\n",
    "criar_carro(\"Palio\", 1999, \"ABC-1234\", marca=\"Fiat\", motor=\"1.0\",combustivel=\"Gasolina\") # inválido"
   ]
  },
  {
   "attachments": {},
   "cell_type": "markdown",
   "metadata": {},
   "source": [
    "## Keyword and positional only"
   ]
  },
  {
   "cell_type": "code",
   "execution_count": 14,
   "metadata": {},
   "outputs": [
    {
     "name": "stdout",
     "output_type": "stream",
     "text": [
      "Palio 1999 ABC-1234 Fiat 1.0 Gasolina\n"
     ]
    },
    {
     "ename": "TypeError",
     "evalue": "criar_carro() got some positional-only arguments passed as keyword arguments: 'modelo, ano, placa'",
     "output_type": "error",
     "traceback": [
      "\u001b[0;31m---------------------------------------------------------------------------\u001b[0m",
      "\u001b[0;31mTypeError\u001b[0m                                 Traceback (most recent call last)",
      "Cell \u001b[0;32mIn[14], line 5\u001b[0m\n\u001b[1;32m      2\u001b[0m  \u001b[39mprint\u001b[39m(modelo, ano, placa, marca, motor, combustivel)\n\u001b[1;32m      4\u001b[0m criar_carro(\u001b[39m\"\u001b[39m\u001b[39mPalio\u001b[39m\u001b[39m\"\u001b[39m, \u001b[39m1999\u001b[39m, \u001b[39m\"\u001b[39m\u001b[39mABC-1234\u001b[39m\u001b[39m\"\u001b[39m, marca\u001b[39m=\u001b[39m\u001b[39m\"\u001b[39m\u001b[39mFiat\u001b[39m\u001b[39m\"\u001b[39m, motor\u001b[39m=\u001b[39m\u001b[39m\"\u001b[39m\u001b[39m1.0\u001b[39m\u001b[39m\"\u001b[39m,combustivel\u001b[39m=\u001b[39m\u001b[39m\"\u001b[39m\u001b[39mGasolina\u001b[39m\u001b[39m\"\u001b[39m) \u001b[39m# válido\u001b[39;00m\n\u001b[0;32m----> 5\u001b[0m criar_carro(modelo\u001b[39m=\u001b[39;49m\u001b[39m\"\u001b[39;49m\u001b[39mPalio\u001b[39;49m\u001b[39m\"\u001b[39;49m, ano\u001b[39m=\u001b[39;49m\u001b[39m1999\u001b[39;49m, placa\u001b[39m=\u001b[39;49m\u001b[39m\"\u001b[39;49m\u001b[39mABC-1234\u001b[39;49m\u001b[39m\"\u001b[39;49m, marca\u001b[39m=\u001b[39;49m\u001b[39m\"\u001b[39;49m\u001b[39mFiat\u001b[39;49m\u001b[39m\"\u001b[39;49m, motor\u001b[39m=\u001b[39;49m\u001b[39m\"\u001b[39;49m\u001b[39m1.0\u001b[39;49m\u001b[39m\"\u001b[39;49m, combustivel\u001b[39m=\u001b[39;49m\u001b[39m\"\u001b[39;49m\u001b[39mGasolina\u001b[39;49m\u001b[39m\"\u001b[39;49m) \u001b[39m# inválido\u001b[39;00m\n",
      "\u001b[0;31mTypeError\u001b[0m: criar_carro() got some positional-only arguments passed as keyword arguments: 'modelo, ano, placa'"
     ]
    }
   ],
   "source": [
    "def criar_carro(modelo, ano, placa, /, *, marca, motor, combustivel):\n",
    " print(modelo, ano, placa, marca, motor, combustivel)\n",
    "\n",
    "criar_carro(\"Palio\", 1999, \"ABC-1234\", marca=\"Fiat\", motor=\"1.0\",combustivel=\"Gasolina\") # válido\n",
    "criar_carro(modelo=\"Palio\", ano=1999, placa=\"ABC-1234\", marca=\"Fiat\", motor=\"1.0\", combustivel=\"Gasolina\") # inválido"
   ]
  },
  {
   "attachments": {},
   "cell_type": "markdown",
   "metadata": {},
   "source": [
    "## Objetos de primeira classe\n",
    "\n",
    "Em Python tudo é objeto, dessa forma funções também são objetos o que as tornam objetos de primeira classe. \n",
    "\n",
    "Com isso podemos atribuir funções a variáveis, passá-las como parâmetro para funções, usá-las como valores em estruturas de dados (listas, tuplas, dicionários, etc) e usar como valor de retorno para uma função (closures)."
   ]
  },
  {
   "cell_type": "code",
   "execution_count": 23,
   "metadata": {},
   "outputs": [
    {
     "name": "stdout",
     "output_type": "stream",
     "text": [
      "O resultado da operação 10 + 10 é 20\n"
     ]
    }
   ],
   "source": [
    "# Exemplo\n",
    "\n",
    "def somar(a, b):\n",
    "    return a + b\n",
    "\n",
    "def exibir_resultado(a, b, funcao):\n",
    "    resultado = funcao(a, b)\n",
    "    print(f\"O resultado da operação {a} + {b} é {resultado}\")\n",
    "\n",
    "exibir_resultado(10, 10, somar) # O resultado da operação 10 + 10 é 20"
   ]
  },
  {
   "attachments": {},
   "cell_type": "markdown",
   "metadata": {},
   "source": [
    "## Escopo local e escopo global\n",
    "\n",
    "Python trabalha com escopo local e global, dentro do bloco da função o escopo é local. Portanto alterações ali feitas em objetos imutáveis serão perdidas quando o método terminar de ser executado. \n",
    "\n",
    "Para usar objetos globais utilizamos a palavra-chave global, que informa ao interpretador que a variável que está sendo manipulada no escopo local é global.\n",
    "\n",
    "Essa **NÃO é uma boa prática e deve ser evitada.**\n"
   ]
  },
  {
   "cell_type": "code",
   "execution_count": 16,
   "metadata": {},
   "outputs": [
    {
     "data": {
      "text/plain": [
       "2500"
      ]
     },
     "execution_count": 16,
     "metadata": {},
     "output_type": "execute_result"
    }
   ],
   "source": [
    "# Exemplo\n",
    "salario = 2000\n",
    "\n",
    "def salario_bonus(bonus):\n",
    "    global salario\n",
    "    salario += bonus\n",
    "    return salario\n",
    "\n",
    "salario_bonus(500) # 2500"
   ]
  }
 ],
 "metadata": {
  "kernelspec": {
   "display_name": "Python 3",
   "language": "python",
   "name": "python3"
  },
  "language_info": {
   "codemirror_mode": {
    "name": "ipython",
    "version": 3
   },
   "file_extension": ".py",
   "mimetype": "text/x-python",
   "name": "python",
   "nbconvert_exporter": "python",
   "pygments_lexer": "ipython3",
   "version": "3.10.9"
  },
  "orig_nbformat": 4,
  "vscode": {
   "interpreter": {
    "hash": "e7370f93d1d0cde622a1f8e1c04877d8463912d04d973331ad4851f04de6915a"
   }
  }
 },
 "nbformat": 4,
 "nbformat_minor": 2
}
